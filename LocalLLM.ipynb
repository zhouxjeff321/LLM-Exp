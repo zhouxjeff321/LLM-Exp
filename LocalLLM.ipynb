{
 "cells": [
  {
   "cell_type": "code",
   "execution_count": 11,
   "id": "a78f4ac5-4238-4ea4-826d-98b462c054ef",
   "metadata": {},
   "outputs": [
    {
     "name": "stdout",
     "output_type": "stream",
     "text": [
      "The sky appears blue to us because of a phenomenon called Rayleigh scattering, named after the British physicist Lord Rayleigh. Here's what happens:\n",
      "\n",
      "1. **Sunlight enters Earth's atmosphere**: When sunlight enters our atmosphere, it encounters tiny molecules of gases such as nitrogen (N2) and oxygen (O2).\n",
      "2. **Light scatters in all directions**: These gas molecules are much smaller than the wavelength of light, so they scatter the light in all directions. This scattering is known as Rayleigh scattering.\n",
      "3. **Shorter wavelengths scattered more**: The shorter (blue) wavelengths of light are scattered more than the longer (red) wavelengths by these tiny molecules. This is because the smaller molecules are more effective at scattering the shorter wavelengths, which have a higher frequency and a shorter wavelength.\n",
      "4. **Blue light reaches our eyes**: As a result of this scattering, the blue light is distributed throughout the atmosphere and reaches our eyes from all directions. This is why we see the sky as blue.\n",
      "\n",
      "There are some additional factors that contribute to the color of the sky:\n",
      "\n",
      "* **Dust and water vapor in the air**: Tiny particles like dust, pollen, and water vapor can also scatter sunlight, but they tend to scatter shorter wavelengths more than longer ones. This is known as Mie scattering.\n",
      "* **Time of day and sun's position**: The apparent color of the sky changes throughout the day due to the angle of the sun. During sunrise and sunset, the sun's light has to travel through more of the Earth's atmosphere, which scatters the shorter wavelengths, making the sky appear red or orange.\n",
      "\n",
      "So, in summary, the sky appears blue because of Rayleigh scattering, where shorter (blue) wavelengths are scattered more by tiny gas molecules in the atmosphere, and this effect is most pronounced when sunlight enters our eyes from all directions."
     ]
    }
   ],
   "source": [
    "import ollama\n",
    "response = ollama.chat(model='llama3.1', messages = [\n",
    "    {\n",
    "        'role' : 'user',\n",
    "        'content' : 'Why is the sky blue?',\n",
    "    }],\n",
    "    stream=True,\n",
    ")\n",
    "for chunk in response:\n",
    "    print(chunk['message']['content'], end='', flush=True)"
   ]
  },
  {
   "cell_type": "code",
   "execution_count": null,
   "id": "c3caf23e-a0ff-4d5a-b0a5-f473009d270b",
   "metadata": {},
   "outputs": [],
   "source": []
  }
 ],
 "metadata": {
  "kernelspec": {
   "display_name": "Python 3 (ipykernel)",
   "language": "python",
   "name": "python3"
  },
  "language_info": {
   "codemirror_mode": {
    "name": "ipython",
    "version": 3
   },
   "file_extension": ".py",
   "mimetype": "text/x-python",
   "name": "python",
   "nbconvert_exporter": "python",
   "pygments_lexer": "ipython3",
   "version": "3.12.4"
  }
 },
 "nbformat": 4,
 "nbformat_minor": 5
}
